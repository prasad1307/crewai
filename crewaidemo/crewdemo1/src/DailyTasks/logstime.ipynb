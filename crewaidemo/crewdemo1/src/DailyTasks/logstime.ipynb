{
 "cells": [
  {
   "cell_type": "code",
   "execution_count": 5,
   "id": "4f88d1b3",
   "metadata": {},
   "outputs": [
    {
     "name": "stdout",
     "output_type": "stream",
     "text": [
      "No tasks found for date: 2025-08-01\n"
     ]
    }
   ],
   "source": [
    "import re\n",
    "import os\n",
    "\n",
    "LOG_FILE = \"/workspace/crewai/crewaidemo/crewdemo1/src/logs.txt\"\n",
    "\n",
    "def search_tasks_by_date(log_file, date_input):\n",
    "    if not os.path.exists(log_file):\n",
    "        print(f\"❌ Log file not found at: {log_file}\")\n",
    "        return\n",
    "\n",
    "    with open(log_file, \"r\") as f:\n",
    "        logs = f.readlines()\n",
    "\n",
    "    # Regex to capture timestamp + tasks\n",
    "    timestamp_pattern = r\"(\\d{4}-\\d{2}-\\d{2} \\d{2}:\\d{2}:\\d{2})\"\n",
    "\n",
    "    found = False\n",
    "    for line in logs:\n",
    "        match = re.search(timestamp_pattern, line)\n",
    "        if match and date_input in match.group(1):  # check if date matches\n",
    "            found = True\n",
    "            timestamp = match.group(1)\n",
    "            print(f\"Timestamp: {timestamp}\")\n",
    "\n",
    "            # Extract key=value pairs\n",
    "            task_info = re.findall(r'(\\w+)=\"([^\"]*)\"', line)\n",
    "            if task_info:\n",
    "                print(\"Task Details:\")\n",
    "                for key, value in task_info:\n",
    "                    print(f\"  {key}: {value}\")\n",
    "            print(\"-\" * 60)\n",
    "\n",
    "    if not found:\n",
    "        print(f\"No tasks found for date: {date_input}\")\n",
    "\n",
    "\n",
    "# -------- Run program --------\n",
    "if __name__ == \"__main__\":\n",
    "    user_date = input(\"Enter a date (YYYY-MM-DD): \").strip()\n",
    "    search_tasks_by_date(LOG_FILE, user_date)\n"
   ]
  }
 ],
 "metadata": {
  "kernelspec": {
   "display_name": "venv",
   "language": "python",
   "name": "python3"
  },
  "language_info": {
   "codemirror_mode": {
    "name": "ipython",
    "version": 3
   },
   "file_extension": ".py",
   "mimetype": "text/x-python",
   "name": "python",
   "nbconvert_exporter": "python",
   "pygments_lexer": "ipython3",
   "version": "3.12.11"
  }
 },
 "nbformat": 4,
 "nbformat_minor": 5
}
