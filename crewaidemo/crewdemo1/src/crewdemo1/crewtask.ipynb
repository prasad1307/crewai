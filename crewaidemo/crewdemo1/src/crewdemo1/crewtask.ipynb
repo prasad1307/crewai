{
 "cells": [
  {
   "cell_type": "code",
   "execution_count": null,
   "id": "6b65c111",
   "metadata": {},
   "outputs": [
    {
     "name": "stdout",
     "output_type": "stream",
     "text": [
      "\n",
      "🔎 Search Results:\n",
      "2025-09-01 12:09:37: task_name=\"research_task\", task=\"Conduct a thorough research about AI LLMs Make sure you find any interesting and relevant information given the current year is 2025.\", agent=\"AI LLMs Senior Data Researcher\", status=\"started\"\n",
      "2025-09-01 12:09:43: task_name=\"research_task\", task=\"Conduct a thorough research about AI LLMs Make sure you find any interesting and relevant information given the current year is 2025.\", agent=\"AI LLMs Senior Data Researcher\", status=\"completed\", output=\"*   **Multimodal LLMs Dominate:** In 2025, the trend towards multimodal LLMs is firmly established. Models seamlessly integrate and process information from various sources, including text, images, audio, video, and even sensor data, enabling a more comprehensive understanding of the world. This has led to breakthroughs in areas like integrated AI assistants capable of understanding and responding to complex instructions across different modalities.\n",
      "\n",
      "*   **Edge Computing Integration:** A significant focus is on deploying LLMs at the edge. This involves optimizing models for low-power devices and enabling real-time processing with minimal latency. This advancement is critical for applications like autonomous vehicles, robotics, and personalized healthcare, which demand instant responses without relying on cloud connectivity.\"\n"
     ]
    }
   ],
   "source": [
    "import re\n",
    "\n",
    "# Sample logs\n",
    "logs = [``\n",
    "    '2025-09-01 12:09:37: task_name=\"research_task\", task=\"Conduct a thorough research about AI LLMs Make sure you find any interesting and relevant information given the current year is 2025.\", agent=\"AI LLMs Senior Data Researcher\", status=\"started\"',\n",
    "    '2025-09-01 12:09:43: task_name=\"research_task\", task=\"Conduct a thorough research about AI LLMs Make sure you find any interesting and relevant information given the current year is 2025.\", agent=\"AI LLMs Senior Data Researcher\", status=\"completed\", output=\"*   **Multimodal LLMs Dominate:** In 2025, the trend towards multimodal LLMs is firmly established. Models seamlessly integrate and process information from various sources, including text, images, audio, video, and even sensor data, enabling a more comprehensive understanding of the world. This has led to breakthroughs in areas like integrated AI assistants capable of understanding and responding to complex instructions across different modalities.\\n\\n*   **Edge Computing Integration:** A significant focus is on deploying LLMs at the edge. This involves optimizing models for low-power devices and enabling real-time processing with minimal latency. This advancement is critical for applications like autonomous vehicles, robotics, and personalized healthcare, which demand instant responses without relying on cloud connectivity.\"'\n",
    "]\n",
    "\n",
    "def search_logs(logs, query):\n",
    "    results = []\n",
    "    for log in logs:\n",
    "        if log.startswith(query):  # Full datetime match\n",
    "            results.append(log)\n",
    "        elif log.split()[0] == query:  # Date-only match\n",
    "            results.append(log)\n",
    "        elif log.split()[1].rstrip(':') == query:  # Time-only match\n",
    "            results.append(log)\n",
    "\n",
    "    return results if results else [\"No log found for this query.\"]\n",
    "\n",
    "# -------- User Input --------\n",
    "query = input(\"Enter a date (YYYY-MM-DD), time (HH:MM:SS), or full datetime (YYYY-MM-DD HH:MM:SS): \")\n",
    "\n",
    "matches = search_logs(logs, query)\n",
    "print(\"\\n🔎 Search Results:\")\n",
    "for m in matches:\n",
    "    print(m)\n"
   ]
  }
 ],
 "metadata": {
  "kernelspec": {
   "display_name": "venv",
   "language": "python",
   "name": "python3"
  },
  "language_info": {
   "codemirror_mode": {
    "name": "ipython",
    "version": 3
   },
   "file_extension": ".py",
   "mimetype": "text/x-python",
   "name": "python",
   "nbconvert_exporter": "python",
   "pygments_lexer": "ipython3",
   "version": "3.12.11"
  }
 },
 "nbformat": 4,
 "nbformat_minor": 5
}
